{
  "cells": [
    {
      "cell_type": "markdown",
      "metadata": {
        "id": "mrar4aHn9dsc"
      },
      "source": [
        "<a href=\"https://colab.research.google.com/github/milvus-io/bootcamp/blob/master/bootcamp/tutorials/integration/qa_with_milvus_and_hf.ipynb\" target=\"_parent\"><img src=\"https://colab.research.google.com/assets/colab-badge.svg\" alt=\"Open In Colab\"/></a>   <a href=\"https://github.com/milvus-io/bootcamp/blob/master/bootcamp/tutorials/integration/qa_with_milvus_and_hf.ipynb\" target=\"_blank\">\n",
        "    <img src=\"https://img.shields.io/badge/View%20on%20GitHub-555555?style=flat&logo=github&logoColor=white\" alt=\"GitHub Repository\"/>\n",
        "</a>"
      ]
    },
    {
      "cell_type": "markdown",
      "metadata": {
        "id": "XCVRxfJT9dsg"
      },
      "source": [
        "# Question Answering Using Milvus and Hugging Face\n",
        "\n",
        "A question answering system based on semantic search works by finding the most similar question from a dataset of question-answer pairs for a given query question. Once the most similar question is identified, the corresponding answer from the dataset is considered as the answer for the query. This approach relies on semantic similarity measures to determine the similarity between questions and retrieve relevant answers.\n",
        "\n",
        "This tutorial shows how to build a question answering system using [Hugging Face](https://huggingface.co) as the data loader & embedding generator for data processing and [Milvus](https://milvus.io) as the vector database for semantic search."
      ]
    },
    {
      "cell_type": "markdown",
      "metadata": {
        "id": "30V7UiaX9dsi"
      },
      "source": [
        "## Before you begin\n",
        "\n",
        "You need to make sure all required dependencies are installed:\n",
        "\n",
        "- `pymilvus`: a python package works with the vector database service powered by Milvus or Zilliz Cloud.\n",
        "- `datasets`, `transformers`: Hugging Face packages manage data and utilize models.\n",
        "- `torch`: a powerful library provides efficient tensor computation and deep learning tools."
      ]
    },
    {
      "cell_type": "code",
      "execution_count": null,
      "metadata": {
        "vscode": {
          "languageId": "shellscript"
        },
        "id": "Sq3QCRQQ9dsj"
      },
      "outputs": [],
      "source": [
        "%pip install --upgrade pymilvus transformers datasets torch==2.5.1"
      ]
    },
    {
      "cell_type": "markdown",
      "metadata": {
        "id": "fuvaop0F9dsl"
      },
      "source": [
        "> If you are using Google Colab, to enable dependencies just installed, you may need to **restart the runtime** (click on the \"Runtime\" menu at the top of the screen, and select \"Restart session\" from the dropdown menu)."
      ]
    },
    {
      "cell_type": "markdown",
      "metadata": {
        "id": "cZB7Rw6g9dsm"
      },
      "source": [
        "## Prepare data\n",
        "\n",
        "In this section, we will load example question-answer pairs from the Hugging Face Datasets. As a demo, we only take partial data from the validation split of [SQuAD](https://huggingface.co/datasets/rajpurkar/squad)."
      ]
    },
    {
      "cell_type": "code",
      "execution_count": 5,
      "metadata": {
        "colab": {
          "base_uri": "https://localhost:8080/",
          "height": 118,
          "referenced_widgets": [
            "e38dacb036c247f892274e6a5d1379de",
            "4f1bb738affe4dfb8e5eaf03ea82cde0",
            "510625a5afdc4dee8a4ddbbb8333e32f",
            "5cb2f8305444435f99b530b2ac172887",
            "79d4dce7c1cd4588b7bdd87ab552472e",
            "6a4f08447ac640ce9dec81c01b7f8920",
            "766cf2829d174340bdfa110bf9912c82",
            "f839f28c91e14df4abc52cf05ee855a9",
            "ec640b49809a4e8eaff2efaae2d6fa73",
            "5f346480944645bc924d6981fd1ab3b0",
            "42f238f32364456ca255b20be7a3dcb0"
          ]
        },
        "id": "a8XMzsT-9dsn",
        "outputId": "ff17d4fb-041a-419e-8bdb-4b870307b4eb"
      },
      "outputs": [
        {
          "output_type": "display_data",
          "data": {
            "text/plain": [
              "Map:   0%|          | 0/11 [00:00<?, ? examples/s]"
            ],
            "application/vnd.jupyter.widget-view+json": {
              "version_major": 2,
              "version_minor": 0,
              "model_id": "e38dacb036c247f892274e6a5d1379de"
            }
          },
          "metadata": {}
        },
        {
          "output_type": "stream",
          "name": "stdout",
          "text": [
            "Dataset({\n",
            "    features: ['title', 'question', 'answer'],\n",
            "    num_rows: 11\n",
            "})\n"
          ]
        }
      ],
      "source": [
        "from datasets import load_dataset\n",
        "\n",
        "\n",
        "DATASET = \"squad\"  # Name of dataset from HuggingFace Datasets\n",
        "INSERT_RATIO = 0.001  # Ratio of example dataset to be inserted\n",
        "\n",
        "data = load_dataset(DATASET, split=\"validation\")\n",
        "# Generates a fixed subset. To generate a random subset, remove the seed.\n",
        "data = data.train_test_split(test_size=INSERT_RATIO)[\"test\"]\n",
        "# Clean up the data structure in the dataset.\n",
        "data = data.map(\n",
        "    lambda val: {\"answer\": val[\"answers\"][\"text\"][0]},\n",
        "    remove_columns=[\"id\", \"answers\", \"context\"],\n",
        ")\n",
        "\n",
        "# View summary of example data\n",
        "print(data[0])"
      ]
    },
    {
      "cell_type": "code",
      "source": [
        "print(data[0])"
      ],
      "metadata": {
        "id": "__mv87mAI9Ce",
        "outputId": "b6586e2d-65cc-4136-816f-b7888437d547",
        "colab": {
          "base_uri": "https://localhost:8080/"
        }
      },
      "execution_count": 6,
      "outputs": [
        {
          "output_type": "stream",
          "name": "stdout",
          "text": [
            "{'title': 'Martin_Luther', 'question': \"What did Luther's degree in 1509 concern?\", 'answer': 'Sentences by Peter Lombard'}\n"
          ]
        }
      ]
    },
    {
      "cell_type": "markdown",
      "metadata": {
        "id": "np6Vwc_z9dso"
      },
      "source": [
        "To generate embeddings for questions, you are able to select a text embedding model from Hugging Face Models. In this tutorial, we will use a small sentencce embedding model [all-MiniLM-L6-v2](https://huggingface.co/sentence-transformers/all-MiniLM-L6-v2) as example."
      ]
    },
    {
      "cell_type": "code",
      "execution_count": 22,
      "metadata": {
        "colab": {
          "base_uri": "https://localhost:8080/",
          "height": 49,
          "referenced_widgets": [
            "02b2ed5273604c5992cb5c3d197a9a6e",
            "b3bb18f1705f4d08bb9b5b95ce660d44",
            "897f3708747c47c781730adbabfdf8c3",
            "80d2933eeacd45e6a0220a8bd8ed95a2",
            "d81d5d72630649f2bdda95d30a62702e",
            "977f4917e9ed486b925167d3059191e5",
            "3b575b67e82e4c909563188c06ceb90a",
            "22fbf0927af140e9a5513bb167be6cd3",
            "979bfbb91f6448118931c1e8fd8e2b41",
            "605dbe329cc94422a7674acf604163bb",
            "d6278f92934d452aa9d55c08a7bb405e"
          ]
        },
        "id": "Yikzym869dsp",
        "outputId": "03bda163-41e7-4f50-a98b-06323cb0b93b"
      },
      "outputs": [
        {
          "output_type": "display_data",
          "data": {
            "text/plain": [
              "Map:   0%|          | 0/10570 [00:00<?, ? examples/s]"
            ],
            "application/vnd.jupyter.widget-view+json": {
              "version_major": 2,
              "version_minor": 0,
              "model_id": "02b2ed5273604c5992cb5c3d197a9a6e"
            }
          },
          "metadata": {}
        }
      ],
      "source": [
        "from transformers import AutoTokenizer, AutoModel\n",
        "import torch\n",
        "\n",
        "MODEL = (\n",
        "    \"sentence-transformers/all-MiniLM-L6-v2\"  # Name of model from HuggingFace Models\n",
        ")\n",
        "INFERENCE_BATCH_SIZE = 64  # Batch size of model inference\n",
        "\n",
        "# Load tokenizer & model from HuggingFace Hub\n",
        "tokenizer = AutoTokenizer.from_pretrained(MODEL)\n",
        "model = AutoModel.from_pretrained(MODEL)\n",
        "\n",
        "\n",
        "def encode_text(batch):\n",
        "    # Tokenize sentences\n",
        "    encoded_input = tokenizer(\n",
        "        batch[\"question\"], padding=True, truncation=True, return_tensors=\"pt\"\n",
        "    )\n",
        "\n",
        "    # Compute token embeddings\n",
        "    with torch.no_grad():\n",
        "        model_output = model(**encoded_input)\n",
        "\n",
        "    # Perform pooling\n",
        "    token_embeddings = model_output[0]\n",
        "    attention_mask = encoded_input[\"attention_mask\"]\n",
        "    input_mask_expanded = (\n",
        "        attention_mask.unsqueeze(-1).expand(token_embeddings.size()).float()\n",
        "    )\n",
        "    sentence_embeddings = torch.sum(\n",
        "        token_embeddings * input_mask_expanded, 1\n",
        "    ) / torch.clamp(input_mask_expanded.sum(1), min=1e-9)\n",
        "\n",
        "    # Normalize embeddings\n",
        "    batch[\"question_embedding\"] = torch.nn.functional.normalize(\n",
        "        sentence_embeddings, p=2, dim=1\n",
        "    )\n",
        "    return batch\n",
        "\n",
        "\n",
        "data = data.map(encode_text, batched=True, batch_size=INFERENCE_BATCH_SIZE)\n",
        "data_list = data.to_list()"
      ]
    },
    {
      "cell_type": "markdown",
      "metadata": {
        "id": "BQhXHojJ9dsq"
      },
      "source": [
        "## Insert data\n",
        "\n",
        "Now we have question-answer pairs ready with question embeddings. The next step is to insert them into the vector database.\n",
        "\n",
        "We will first need to connect to Milvus service and create a Milvus collection."
      ]
    },
    {
      "cell_type": "code",
      "execution_count": 23,
      "metadata": {
        "id": "jYUgiuxb9dsq"
      },
      "outputs": [],
      "source": [
        "from pymilvus import MilvusClient\n",
        "\n",
        "\n",
        "MILVUS_URI = \"./huggingface_milvus_test.db\"  # Connection URI\n",
        "COLLECTION_NAME = \"huggingface_test\"  # Collection name\n",
        "DIMENSION = 384  # Embedding dimension depending on model\n",
        "\n",
        "milvus_client = MilvusClient(MILVUS_URI)\n",
        "if milvus_client.has_collection(collection_name=COLLECTION_NAME):\n",
        "    milvus_client.drop_collection(collection_name=COLLECTION_NAME)\n",
        "milvus_client.create_collection(\n",
        "    collection_name=COLLECTION_NAME,\n",
        "    dimension=DIMENSION,\n",
        "    auto_id=True,  # Enable auto id\n",
        "    enable_dynamic_field=True,  # Enable dynamic fields\n",
        "    vector_field_name=\"question_embedding\",  # Map vector field name and embedding column in dataset\n",
        "    consistency_level=\"Strong\",  # To enable search with latest data\n",
        ")"
      ]
    },
    {
      "cell_type": "markdown",
      "source": [
        "> As for the argument of `MilvusClient`:\n",
        "> - Setting the `uri` as a local file, e.g.`./milvus.db`, is the most convenient method, as it automatically utilizes [Milvus Lite](https://milvus.io/docs/milvus_lite.md) to store all data in this file.\n",
        "> - If you have large scale of data, you can set up a more performant Milvus server on [docker or kubernetes](https://milvus.io/docs/quickstart.md). In this setup, please use the server uri, e.g.`http://localhost:19530`, as your `uri`.\n",
        "> - If you want to use [Zilliz Cloud](https://zilliz.com/cloud), the fully managed cloud service for Milvus, adjust the `uri` and `token`, which correspond to the [Public Endpoint and Api key](https://docs.zilliz.com/docs/on-zilliz-cloud-console#free-cluster-details) in Zilliz Cloud."
      ],
      "metadata": {
        "collapsed": false,
        "id": "Hw2x5LgS9dsr"
      }
    },
    {
      "cell_type": "markdown",
      "metadata": {
        "id": "qFpB4JY49dsr"
      },
      "source": [
        "Insert all data into the collection:"
      ]
    },
    {
      "cell_type": "code",
      "execution_count": null,
      "metadata": {
        "id": "fSlSAgBs9dsr"
      },
      "outputs": [],
      "source": [
        "milvus_client.insert(collection_name=COLLECTION_NAME, data=data_list)"
      ]
    },
    {
      "cell_type": "markdown",
      "metadata": {
        "id": "Z5WpZMmP9dss"
      },
      "source": [
        "## Ask questions\n",
        "\n",
        "Once all the data is inserted into Milvus, we can ask questions and see what the closest answers are."
      ]
    },
    {
      "cell_type": "code",
      "execution_count": 34,
      "metadata": {
        "colab": {
          "base_uri": "https://localhost:8080/"
        },
        "id": "V3acmAT-9dss",
        "outputId": "3c5a09fa-ea95-414d-8d4f-dde12e842961"
      },
      "outputs": [
        {
          "output_type": "stream",
          "name": "stdout",
          "text": [
            "Question: eurpoens conquest of africa\n",
            "{'answer': 'blank spaces on contemporary maps', 'score': 0.6491098999977112, 'original question': 'What provided an incentive to western empires to colonize Africa?'}\n",
            "{'answer': 'French', 'score': 0.6239544749259949, 'original question': 'Who besides the british colonized Africa?'}\n",
            "{'answer': 'By the first millennium AD', 'score': 0.5458090901374817, 'original question': 'When did the Bantu expansion reach the area from West-Central Africa?'}\n",
            "{'answer': 'rapid expansion in telecommunication and financial activity', 'score': 0.5434884428977966, 'original question': \"What was East and Central Africa's economy boosted by?\"}\n",
            "{'answer': 'Dutch Cape Colony', 'score': 0.5064941644668579, 'original question': 'What area in South Africa accepted Huguenot colonists?'}\n",
            "{'answer': 'Lower Paleolithic period', 'score': 0.49618497490882874, 'original question': 'How long has the African Great Lakes region been inhabited?'}\n",
            "{'answer': 'Kenya', 'score': 0.48957157135009766, 'original question': 'Who is the biggest and most advanced economy in east and central Africa?'}\n",
            "{'answer': '12 December 1963', 'score': 0.4884147644042969, 'original question': 'When did the different colonies come together and form Kenya?'}\n",
            "{'answer': 'Francisco de Orellana', 'score': 0.479515939950943, 'original question': 'Who was the first European to travel the Amazon River?'}\n",
            "{'answer': 'around 1700', 'score': 0.4776405096054077, 'original question': 'When did the age of Imperialism begin?'}\n",
            "\n",
            "\n"
          ]
        }
      ],
      "source": [
        "questions = {\n",
        "    \"question\": [\n",
        "        \"eurpoens conquest of africa\"\n",
        "    ]\n",
        "}\n",
        "\n",
        "# Generate question embeddings\n",
        "question_embeddings = [v.tolist() for v in encode_text(questions)[\"question_embedding\"]]\n",
        "\n",
        "# Search across Milvus\n",
        "search_results = milvus_client.search(\n",
        "    collection_name=COLLECTION_NAME,\n",
        "    data=question_embeddings,\n",
        "    limit=10,  # How many search results to output\n",
        "    output_fields=[\"answer\", \"question\"],  # Include these fields in search results\n",
        ")\n",
        "\n",
        "# Print out results\n",
        "for q, res in zip(questions[\"question\"], search_results):\n",
        "    print(\"Question:\", q)\n",
        "    for r in res:\n",
        "        print(\n",
        "            {\n",
        "                \"answer\": r[\"entity\"][\"answer\"],\n",
        "                \"score\": r[\"distance\"],\n",
        "                \"original question\": r[\"entity\"][\"question\"],\n",
        "            }\n",
        "        )\n",
        "    print(\"\\n\")"
      ]
    },
    {
      "cell_type": "code",
      "source": [
        "# Use a pipeline as a high-level helper\n",
        "from transformers import pipeline\n",
        "\n",
        "pipe = pipeline(\"fill-mask\", model=\"law-ai/InLegalBERT\")\n",
        "# Load model directly\n",
        "from transformers import AutoTokenizer, AutoModelForPreTraining\n",
        "\n",
        "tokenizer = AutoTokenizer.from_pretrained(\"law-ai/InLegalBERT\")\n",
        "model = AutoModelForPreTraining.from_pretrained(\"law-ai/InLegalBERT\")\n",
        "\n"
      ],
      "metadata": {
        "id": "qHMUa8BmThyr",
        "outputId": "80602f12-cd25-48c8-f403-f071b77700e8",
        "colab": {
          "base_uri": "https://localhost:8080/"
        }
      },
      "execution_count": 7,
      "outputs": [
        {
          "output_type": "stream",
          "name": "stderr",
          "text": [
            "BertForMaskedLM has generative capabilities, as `prepare_inputs_for_generation` is explicitly overwritten. However, it doesn't directly inherit from `GenerationMixin`. From 👉v4.50👈 onwards, `PreTrainedModel` will NOT inherit from `GenerationMixin`, and this model will lose the ability to call `generate` and other related functions.\n",
            "  - If you're using `trust_remote_code=True`, you can get rid of this warning by loading the model with an auto class. See https://huggingface.co/docs/transformers/en/model_doc/auto#auto-classes\n",
            "  - If you are the owner of the model architecture code, please modify your model class such that it inherits from `GenerationMixin` (after `PreTrainedModel`, otherwise you'll get an exception).\n",
            "  - If you are not the owner of the model architecture class, please contact the model code owner to update it.\n",
            "Device set to use cuda:0\n"
          ]
        }
      ]
    },
    {
      "cell_type": "code",
      "source": [
        "%%cuda\n",
        "#include <stdio.h>\n",
        "__global__ void hello(){\n",
        " printf(\"Hello from block: %u, thread: %u\\n\", blockIdx.x, threadIdx.x);\n",
        "}\n",
        "int main(){\n",
        " hello<<<2, 2>>>();\n",
        " cudaDeviceSynchronize();\n",
        "}"
      ],
      "metadata": {
        "id": "_iWx345GUmYv",
        "outputId": "596beae5-4e0d-4a01-ae8a-c4f6bf699a53",
        "colab": {
          "base_uri": "https://localhost:8080/"
        }
      },
      "execution_count": 5,
      "outputs": [
        {
          "output_type": "stream",
          "name": "stdout",
          "text": [
            "\n"
          ]
        }
      ]
    },
    {
      "cell_type": "code",
      "source": [
        "import tensorflow as tf\n",
        "tf.test.gpu_device_name()\n"
      ],
      "metadata": {
        "id": "Bmr7xTzkV3r6",
        "outputId": "98d8e9bd-abcc-404c-997a-1b37ed2fbfbc",
        "colab": {
          "base_uri": "https://localhost:8080/",
          "height": 35
        }
      },
      "execution_count": 6,
      "outputs": [
        {
          "output_type": "execute_result",
          "data": {
            "text/plain": [
              "'/device:GPU:0'"
            ],
            "application/vnd.google.colaboratory.intrinsic+json": {
              "type": "string"
            }
          },
          "metadata": {},
          "execution_count": 6
        }
      ]
    }
  ],
  "metadata": {
    "kernelspec": {
      "display_name": "Python 3",
      "name": "python3"
    },
    "language_info": {
      "codemirror_mode": {
        "name": "ipython",
        "version": 3
      },
      "file_extension": ".py",
      "mimetype": "text/x-python",
      "name": "python",
      "nbconvert_exporter": "python",
      "pygments_lexer": "ipython3",
      "version": "3.8.12"
    },
    "colab": {
      "provenance": [],
      "gpuType": "T4"
    },
    "accelerator": "GPU",
    "widgets": {
      "application/vnd.jupyter.widget-state+json": {
        "e38dacb036c247f892274e6a5d1379de": {
          "model_module": "@jupyter-widgets/controls",
          "model_name": "HBoxModel",
          "model_module_version": "1.5.0",
          "state": {
            "_dom_classes": [],
            "_model_module": "@jupyter-widgets/controls",
            "_model_module_version": "1.5.0",
            "_model_name": "HBoxModel",
            "_view_count": null,
            "_view_module": "@jupyter-widgets/controls",
            "_view_module_version": "1.5.0",
            "_view_name": "HBoxView",
            "box_style": "",
            "children": [
              "IPY_MODEL_4f1bb738affe4dfb8e5eaf03ea82cde0",
              "IPY_MODEL_510625a5afdc4dee8a4ddbbb8333e32f",
              "IPY_MODEL_5cb2f8305444435f99b530b2ac172887"
            ],
            "layout": "IPY_MODEL_79d4dce7c1cd4588b7bdd87ab552472e"
          }
        },
        "4f1bb738affe4dfb8e5eaf03ea82cde0": {
          "model_module": "@jupyter-widgets/controls",
          "model_name": "HTMLModel",
          "model_module_version": "1.5.0",
          "state": {
            "_dom_classes": [],
            "_model_module": "@jupyter-widgets/controls",
            "_model_module_version": "1.5.0",
            "_model_name": "HTMLModel",
            "_view_count": null,
            "_view_module": "@jupyter-widgets/controls",
            "_view_module_version": "1.5.0",
            "_view_name": "HTMLView",
            "description": "",
            "description_tooltip": null,
            "layout": "IPY_MODEL_6a4f08447ac640ce9dec81c01b7f8920",
            "placeholder": "​",
            "style": "IPY_MODEL_766cf2829d174340bdfa110bf9912c82",
            "value": "Map: 100%"
          }
        },
        "510625a5afdc4dee8a4ddbbb8333e32f": {
          "model_module": "@jupyter-widgets/controls",
          "model_name": "FloatProgressModel",
          "model_module_version": "1.5.0",
          "state": {
            "_dom_classes": [],
            "_model_module": "@jupyter-widgets/controls",
            "_model_module_version": "1.5.0",
            "_model_name": "FloatProgressModel",
            "_view_count": null,
            "_view_module": "@jupyter-widgets/controls",
            "_view_module_version": "1.5.0",
            "_view_name": "ProgressView",
            "bar_style": "success",
            "description": "",
            "description_tooltip": null,
            "layout": "IPY_MODEL_f839f28c91e14df4abc52cf05ee855a9",
            "max": 11,
            "min": 0,
            "orientation": "horizontal",
            "style": "IPY_MODEL_ec640b49809a4e8eaff2efaae2d6fa73",
            "value": 11
          }
        },
        "5cb2f8305444435f99b530b2ac172887": {
          "model_module": "@jupyter-widgets/controls",
          "model_name": "HTMLModel",
          "model_module_version": "1.5.0",
          "state": {
            "_dom_classes": [],
            "_model_module": "@jupyter-widgets/controls",
            "_model_module_version": "1.5.0",
            "_model_name": "HTMLModel",
            "_view_count": null,
            "_view_module": "@jupyter-widgets/controls",
            "_view_module_version": "1.5.0",
            "_view_name": "HTMLView",
            "description": "",
            "description_tooltip": null,
            "layout": "IPY_MODEL_5f346480944645bc924d6981fd1ab3b0",
            "placeholder": "​",
            "style": "IPY_MODEL_42f238f32364456ca255b20be7a3dcb0",
            "value": " 11/11 [00:00&lt;00:00, 375.55 examples/s]"
          }
        },
        "79d4dce7c1cd4588b7bdd87ab552472e": {
          "model_module": "@jupyter-widgets/base",
          "model_name": "LayoutModel",
          "model_module_version": "1.2.0",
          "state": {
            "_model_module": "@jupyter-widgets/base",
            "_model_module_version": "1.2.0",
            "_model_name": "LayoutModel",
            "_view_count": null,
            "_view_module": "@jupyter-widgets/base",
            "_view_module_version": "1.2.0",
            "_view_name": "LayoutView",
            "align_content": null,
            "align_items": null,
            "align_self": null,
            "border": null,
            "bottom": null,
            "display": null,
            "flex": null,
            "flex_flow": null,
            "grid_area": null,
            "grid_auto_columns": null,
            "grid_auto_flow": null,
            "grid_auto_rows": null,
            "grid_column": null,
            "grid_gap": null,
            "grid_row": null,
            "grid_template_areas": null,
            "grid_template_columns": null,
            "grid_template_rows": null,
            "height": null,
            "justify_content": null,
            "justify_items": null,
            "left": null,
            "margin": null,
            "max_height": null,
            "max_width": null,
            "min_height": null,
            "min_width": null,
            "object_fit": null,
            "object_position": null,
            "order": null,
            "overflow": null,
            "overflow_x": null,
            "overflow_y": null,
            "padding": null,
            "right": null,
            "top": null,
            "visibility": null,
            "width": null
          }
        },
        "6a4f08447ac640ce9dec81c01b7f8920": {
          "model_module": "@jupyter-widgets/base",
          "model_name": "LayoutModel",
          "model_module_version": "1.2.0",
          "state": {
            "_model_module": "@jupyter-widgets/base",
            "_model_module_version": "1.2.0",
            "_model_name": "LayoutModel",
            "_view_count": null,
            "_view_module": "@jupyter-widgets/base",
            "_view_module_version": "1.2.0",
            "_view_name": "LayoutView",
            "align_content": null,
            "align_items": null,
            "align_self": null,
            "border": null,
            "bottom": null,
            "display": null,
            "flex": null,
            "flex_flow": null,
            "grid_area": null,
            "grid_auto_columns": null,
            "grid_auto_flow": null,
            "grid_auto_rows": null,
            "grid_column": null,
            "grid_gap": null,
            "grid_row": null,
            "grid_template_areas": null,
            "grid_template_columns": null,
            "grid_template_rows": null,
            "height": null,
            "justify_content": null,
            "justify_items": null,
            "left": null,
            "margin": null,
            "max_height": null,
            "max_width": null,
            "min_height": null,
            "min_width": null,
            "object_fit": null,
            "object_position": null,
            "order": null,
            "overflow": null,
            "overflow_x": null,
            "overflow_y": null,
            "padding": null,
            "right": null,
            "top": null,
            "visibility": null,
            "width": null
          }
        },
        "766cf2829d174340bdfa110bf9912c82": {
          "model_module": "@jupyter-widgets/controls",
          "model_name": "DescriptionStyleModel",
          "model_module_version": "1.5.0",
          "state": {
            "_model_module": "@jupyter-widgets/controls",
            "_model_module_version": "1.5.0",
            "_model_name": "DescriptionStyleModel",
            "_view_count": null,
            "_view_module": "@jupyter-widgets/base",
            "_view_module_version": "1.2.0",
            "_view_name": "StyleView",
            "description_width": ""
          }
        },
        "f839f28c91e14df4abc52cf05ee855a9": {
          "model_module": "@jupyter-widgets/base",
          "model_name": "LayoutModel",
          "model_module_version": "1.2.0",
          "state": {
            "_model_module": "@jupyter-widgets/base",
            "_model_module_version": "1.2.0",
            "_model_name": "LayoutModel",
            "_view_count": null,
            "_view_module": "@jupyter-widgets/base",
            "_view_module_version": "1.2.0",
            "_view_name": "LayoutView",
            "align_content": null,
            "align_items": null,
            "align_self": null,
            "border": null,
            "bottom": null,
            "display": null,
            "flex": null,
            "flex_flow": null,
            "grid_area": null,
            "grid_auto_columns": null,
            "grid_auto_flow": null,
            "grid_auto_rows": null,
            "grid_column": null,
            "grid_gap": null,
            "grid_row": null,
            "grid_template_areas": null,
            "grid_template_columns": null,
            "grid_template_rows": null,
            "height": null,
            "justify_content": null,
            "justify_items": null,
            "left": null,
            "margin": null,
            "max_height": null,
            "max_width": null,
            "min_height": null,
            "min_width": null,
            "object_fit": null,
            "object_position": null,
            "order": null,
            "overflow": null,
            "overflow_x": null,
            "overflow_y": null,
            "padding": null,
            "right": null,
            "top": null,
            "visibility": null,
            "width": null
          }
        },
        "ec640b49809a4e8eaff2efaae2d6fa73": {
          "model_module": "@jupyter-widgets/controls",
          "model_name": "ProgressStyleModel",
          "model_module_version": "1.5.0",
          "state": {
            "_model_module": "@jupyter-widgets/controls",
            "_model_module_version": "1.5.0",
            "_model_name": "ProgressStyleModel",
            "_view_count": null,
            "_view_module": "@jupyter-widgets/base",
            "_view_module_version": "1.2.0",
            "_view_name": "StyleView",
            "bar_color": null,
            "description_width": ""
          }
        },
        "5f346480944645bc924d6981fd1ab3b0": {
          "model_module": "@jupyter-widgets/base",
          "model_name": "LayoutModel",
          "model_module_version": "1.2.0",
          "state": {
            "_model_module": "@jupyter-widgets/base",
            "_model_module_version": "1.2.0",
            "_model_name": "LayoutModel",
            "_view_count": null,
            "_view_module": "@jupyter-widgets/base",
            "_view_module_version": "1.2.0",
            "_view_name": "LayoutView",
            "align_content": null,
            "align_items": null,
            "align_self": null,
            "border": null,
            "bottom": null,
            "display": null,
            "flex": null,
            "flex_flow": null,
            "grid_area": null,
            "grid_auto_columns": null,
            "grid_auto_flow": null,
            "grid_auto_rows": null,
            "grid_column": null,
            "grid_gap": null,
            "grid_row": null,
            "grid_template_areas": null,
            "grid_template_columns": null,
            "grid_template_rows": null,
            "height": null,
            "justify_content": null,
            "justify_items": null,
            "left": null,
            "margin": null,
            "max_height": null,
            "max_width": null,
            "min_height": null,
            "min_width": null,
            "object_fit": null,
            "object_position": null,
            "order": null,
            "overflow": null,
            "overflow_x": null,
            "overflow_y": null,
            "padding": null,
            "right": null,
            "top": null,
            "visibility": null,
            "width": null
          }
        },
        "42f238f32364456ca255b20be7a3dcb0": {
          "model_module": "@jupyter-widgets/controls",
          "model_name": "DescriptionStyleModel",
          "model_module_version": "1.5.0",
          "state": {
            "_model_module": "@jupyter-widgets/controls",
            "_model_module_version": "1.5.0",
            "_model_name": "DescriptionStyleModel",
            "_view_count": null,
            "_view_module": "@jupyter-widgets/base",
            "_view_module_version": "1.2.0",
            "_view_name": "StyleView",
            "description_width": ""
          }
        },
        "02b2ed5273604c5992cb5c3d197a9a6e": {
          "model_module": "@jupyter-widgets/controls",
          "model_name": "HBoxModel",
          "model_module_version": "1.5.0",
          "state": {
            "_dom_classes": [],
            "_model_module": "@jupyter-widgets/controls",
            "_model_module_version": "1.5.0",
            "_model_name": "HBoxModel",
            "_view_count": null,
            "_view_module": "@jupyter-widgets/controls",
            "_view_module_version": "1.5.0",
            "_view_name": "HBoxView",
            "box_style": "",
            "children": [
              "IPY_MODEL_b3bb18f1705f4d08bb9b5b95ce660d44",
              "IPY_MODEL_897f3708747c47c781730adbabfdf8c3",
              "IPY_MODEL_80d2933eeacd45e6a0220a8bd8ed95a2"
            ],
            "layout": "IPY_MODEL_d81d5d72630649f2bdda95d30a62702e"
          }
        },
        "b3bb18f1705f4d08bb9b5b95ce660d44": {
          "model_module": "@jupyter-widgets/controls",
          "model_name": "HTMLModel",
          "model_module_version": "1.5.0",
          "state": {
            "_dom_classes": [],
            "_model_module": "@jupyter-widgets/controls",
            "_model_module_version": "1.5.0",
            "_model_name": "HTMLModel",
            "_view_count": null,
            "_view_module": "@jupyter-widgets/controls",
            "_view_module_version": "1.5.0",
            "_view_name": "HTMLView",
            "description": "",
            "description_tooltip": null,
            "layout": "IPY_MODEL_977f4917e9ed486b925167d3059191e5",
            "placeholder": "​",
            "style": "IPY_MODEL_3b575b67e82e4c909563188c06ceb90a",
            "value": "Map: 100%"
          }
        },
        "897f3708747c47c781730adbabfdf8c3": {
          "model_module": "@jupyter-widgets/controls",
          "model_name": "FloatProgressModel",
          "model_module_version": "1.5.0",
          "state": {
            "_dom_classes": [],
            "_model_module": "@jupyter-widgets/controls",
            "_model_module_version": "1.5.0",
            "_model_name": "FloatProgressModel",
            "_view_count": null,
            "_view_module": "@jupyter-widgets/controls",
            "_view_module_version": "1.5.0",
            "_view_name": "ProgressView",
            "bar_style": "success",
            "description": "",
            "description_tooltip": null,
            "layout": "IPY_MODEL_22fbf0927af140e9a5513bb167be6cd3",
            "max": 10570,
            "min": 0,
            "orientation": "horizontal",
            "style": "IPY_MODEL_979bfbb91f6448118931c1e8fd8e2b41",
            "value": 10570
          }
        },
        "80d2933eeacd45e6a0220a8bd8ed95a2": {
          "model_module": "@jupyter-widgets/controls",
          "model_name": "HTMLModel",
          "model_module_version": "1.5.0",
          "state": {
            "_dom_classes": [],
            "_model_module": "@jupyter-widgets/controls",
            "_model_module_version": "1.5.0",
            "_model_name": "HTMLModel",
            "_view_count": null,
            "_view_module": "@jupyter-widgets/controls",
            "_view_module_version": "1.5.0",
            "_view_name": "HTMLView",
            "description": "",
            "description_tooltip": null,
            "layout": "IPY_MODEL_605dbe329cc94422a7674acf604163bb",
            "placeholder": "​",
            "style": "IPY_MODEL_d6278f92934d452aa9d55c08a7bb405e",
            "value": " 10570/10570 [01:37&lt;00:00, 84.63 examples/s]"
          }
        },
        "d81d5d72630649f2bdda95d30a62702e": {
          "model_module": "@jupyter-widgets/base",
          "model_name": "LayoutModel",
          "model_module_version": "1.2.0",
          "state": {
            "_model_module": "@jupyter-widgets/base",
            "_model_module_version": "1.2.0",
            "_model_name": "LayoutModel",
            "_view_count": null,
            "_view_module": "@jupyter-widgets/base",
            "_view_module_version": "1.2.0",
            "_view_name": "LayoutView",
            "align_content": null,
            "align_items": null,
            "align_self": null,
            "border": null,
            "bottom": null,
            "display": null,
            "flex": null,
            "flex_flow": null,
            "grid_area": null,
            "grid_auto_columns": null,
            "grid_auto_flow": null,
            "grid_auto_rows": null,
            "grid_column": null,
            "grid_gap": null,
            "grid_row": null,
            "grid_template_areas": null,
            "grid_template_columns": null,
            "grid_template_rows": null,
            "height": null,
            "justify_content": null,
            "justify_items": null,
            "left": null,
            "margin": null,
            "max_height": null,
            "max_width": null,
            "min_height": null,
            "min_width": null,
            "object_fit": null,
            "object_position": null,
            "order": null,
            "overflow": null,
            "overflow_x": null,
            "overflow_y": null,
            "padding": null,
            "right": null,
            "top": null,
            "visibility": null,
            "width": null
          }
        },
        "977f4917e9ed486b925167d3059191e5": {
          "model_module": "@jupyter-widgets/base",
          "model_name": "LayoutModel",
          "model_module_version": "1.2.0",
          "state": {
            "_model_module": "@jupyter-widgets/base",
            "_model_module_version": "1.2.0",
            "_model_name": "LayoutModel",
            "_view_count": null,
            "_view_module": "@jupyter-widgets/base",
            "_view_module_version": "1.2.0",
            "_view_name": "LayoutView",
            "align_content": null,
            "align_items": null,
            "align_self": null,
            "border": null,
            "bottom": null,
            "display": null,
            "flex": null,
            "flex_flow": null,
            "grid_area": null,
            "grid_auto_columns": null,
            "grid_auto_flow": null,
            "grid_auto_rows": null,
            "grid_column": null,
            "grid_gap": null,
            "grid_row": null,
            "grid_template_areas": null,
            "grid_template_columns": null,
            "grid_template_rows": null,
            "height": null,
            "justify_content": null,
            "justify_items": null,
            "left": null,
            "margin": null,
            "max_height": null,
            "max_width": null,
            "min_height": null,
            "min_width": null,
            "object_fit": null,
            "object_position": null,
            "order": null,
            "overflow": null,
            "overflow_x": null,
            "overflow_y": null,
            "padding": null,
            "right": null,
            "top": null,
            "visibility": null,
            "width": null
          }
        },
        "3b575b67e82e4c909563188c06ceb90a": {
          "model_module": "@jupyter-widgets/controls",
          "model_name": "DescriptionStyleModel",
          "model_module_version": "1.5.0",
          "state": {
            "_model_module": "@jupyter-widgets/controls",
            "_model_module_version": "1.5.0",
            "_model_name": "DescriptionStyleModel",
            "_view_count": null,
            "_view_module": "@jupyter-widgets/base",
            "_view_module_version": "1.2.0",
            "_view_name": "StyleView",
            "description_width": ""
          }
        },
        "22fbf0927af140e9a5513bb167be6cd3": {
          "model_module": "@jupyter-widgets/base",
          "model_name": "LayoutModel",
          "model_module_version": "1.2.0",
          "state": {
            "_model_module": "@jupyter-widgets/base",
            "_model_module_version": "1.2.0",
            "_model_name": "LayoutModel",
            "_view_count": null,
            "_view_module": "@jupyter-widgets/base",
            "_view_module_version": "1.2.0",
            "_view_name": "LayoutView",
            "align_content": null,
            "align_items": null,
            "align_self": null,
            "border": null,
            "bottom": null,
            "display": null,
            "flex": null,
            "flex_flow": null,
            "grid_area": null,
            "grid_auto_columns": null,
            "grid_auto_flow": null,
            "grid_auto_rows": null,
            "grid_column": null,
            "grid_gap": null,
            "grid_row": null,
            "grid_template_areas": null,
            "grid_template_columns": null,
            "grid_template_rows": null,
            "height": null,
            "justify_content": null,
            "justify_items": null,
            "left": null,
            "margin": null,
            "max_height": null,
            "max_width": null,
            "min_height": null,
            "min_width": null,
            "object_fit": null,
            "object_position": null,
            "order": null,
            "overflow": null,
            "overflow_x": null,
            "overflow_y": null,
            "padding": null,
            "right": null,
            "top": null,
            "visibility": null,
            "width": null
          }
        },
        "979bfbb91f6448118931c1e8fd8e2b41": {
          "model_module": "@jupyter-widgets/controls",
          "model_name": "ProgressStyleModel",
          "model_module_version": "1.5.0",
          "state": {
            "_model_module": "@jupyter-widgets/controls",
            "_model_module_version": "1.5.0",
            "_model_name": "ProgressStyleModel",
            "_view_count": null,
            "_view_module": "@jupyter-widgets/base",
            "_view_module_version": "1.2.0",
            "_view_name": "StyleView",
            "bar_color": null,
            "description_width": ""
          }
        },
        "605dbe329cc94422a7674acf604163bb": {
          "model_module": "@jupyter-widgets/base",
          "model_name": "LayoutModel",
          "model_module_version": "1.2.0",
          "state": {
            "_model_module": "@jupyter-widgets/base",
            "_model_module_version": "1.2.0",
            "_model_name": "LayoutModel",
            "_view_count": null,
            "_view_module": "@jupyter-widgets/base",
            "_view_module_version": "1.2.0",
            "_view_name": "LayoutView",
            "align_content": null,
            "align_items": null,
            "align_self": null,
            "border": null,
            "bottom": null,
            "display": null,
            "flex": null,
            "flex_flow": null,
            "grid_area": null,
            "grid_auto_columns": null,
            "grid_auto_flow": null,
            "grid_auto_rows": null,
            "grid_column": null,
            "grid_gap": null,
            "grid_row": null,
            "grid_template_areas": null,
            "grid_template_columns": null,
            "grid_template_rows": null,
            "height": null,
            "justify_content": null,
            "justify_items": null,
            "left": null,
            "margin": null,
            "max_height": null,
            "max_width": null,
            "min_height": null,
            "min_width": null,
            "object_fit": null,
            "object_position": null,
            "order": null,
            "overflow": null,
            "overflow_x": null,
            "overflow_y": null,
            "padding": null,
            "right": null,
            "top": null,
            "visibility": null,
            "width": null
          }
        },
        "d6278f92934d452aa9d55c08a7bb405e": {
          "model_module": "@jupyter-widgets/controls",
          "model_name": "DescriptionStyleModel",
          "model_module_version": "1.5.0",
          "state": {
            "_model_module": "@jupyter-widgets/controls",
            "_model_module_version": "1.5.0",
            "_model_name": "DescriptionStyleModel",
            "_view_count": null,
            "_view_module": "@jupyter-widgets/base",
            "_view_module_version": "1.2.0",
            "_view_name": "StyleView",
            "description_width": ""
          }
        }
      }
    }
  },
  "nbformat": 4,
  "nbformat_minor": 0
}